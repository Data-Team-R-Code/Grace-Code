{
 "cells": [
  {
   "cell_type": "code",
   "execution_count": 12,
   "id": "9ad34b81-4d09-40c1-ac5e-d394e843e8f0",
   "metadata": {},
   "outputs": [],
   "source": [
    "import requests\n",
    "import pandas as pd\n",
    "from io import StringIO\n",
    "from datetime import datetime"
   ]
  },
  {
   "cell_type": "code",
   "execution_count": 13,
   "id": "c961e6fb-f8f2-427b-861e-5c4de9dfa0d5",
   "metadata": {},
   "outputs": [],
   "source": [
    "file_url = \"https://sanctionslistservice.ofac.treas.gov/api/PublicationPreview/exports/SDN.CSV\"\n",
    "\n",
    "response = requests.get(file_url)\n",
    "\n",
    "# Check if the request was successful\n",
    "if response.status_code == 200:\n",
    "    csv_content = StringIO(response.text)\n",
    "    df = pd.read_csv(csv_content, header=None)\n",
    "    terrorist = df.iloc[:, [1, 2]].rename(columns={1: 'Name', 2: 'Type'})\n",
    "    \n",
    "else:\n",
    "    print(f\"Failed to retrieve the file. Status code: {response.status_code}\")"
   ]
  },
  {
   "cell_type": "code",
   "execution_count": 14,
   "id": "f360fa38-1770-4008-b727-69b06cea35d6",
   "metadata": {},
   "outputs": [],
   "source": [
    "terrorist_individual = terrorist[terrorist['Type'].str.lower()=='individual']\n",
    "terrorist_names = terrorist_individual[['Name']]"
   ]
  },
  {
   "cell_type": "code",
   "execution_count": 15,
   "id": "1672cd23-9dce-4404-ab94-1fc2f578c3bf",
   "metadata": {},
   "outputs": [],
   "source": [
    "terrorist_names = terrorist_names.reset_index(drop=True) "
   ]
  },
  {
   "cell_type": "code",
   "execution_count": 16,
   "id": "62362d84-7265-4f1a-ad3c-4c26033ba147",
   "metadata": {},
   "outputs": [],
   "source": [
    "split_names = terrorist_names['Name'].str.split(',', expand=True)\n",
    "terrorist_names['PERSONAL.LASTNAME'] = split_names.iloc[:, 0].str.strip()\n",
    "terrorist_names['PERSONAL.FIRSTNAME'] = split_names.iloc[:, 1].str.strip() if split_names.shape[1] > 1 else None\n"
   ]
  },
  {
   "cell_type": "code",
   "execution_count": 17,
   "id": "7b70cda4-4b48-4fb8-9f64-35b9a633ba43",
   "metadata": {},
   "outputs": [],
   "source": [
    "terrorist_names = terrorist_names.drop(columns=['Name'])"
   ]
  },
  {
   "cell_type": "code",
   "execution_count": 18,
   "id": "97d26ef5-5f17-427f-a93e-4341245bf6cf",
   "metadata": {},
   "outputs": [],
   "source": [
    "terrorist_names = terrorist_names[['PERSONAL.FIRSTNAME','PERSONAL.LASTNAME']]"
   ]
  },
  {
   "cell_type": "code",
   "execution_count": 19,
   "id": "587768f2-3cb0-47e7-b1db-4ea9cd572582",
   "metadata": {},
   "outputs": [],
   "source": [
    "current_date = this_week = datetime.now().strftime('%Y-%m-%d')"
   ]
  },
  {
   "cell_type": "code",
   "execution_count": 20,
   "id": "1ca5b1a0-27d0-43d7-ac89-747c4a191b23",
   "metadata": {},
   "outputs": [],
   "source": [
    "filename = f\"OFAC_Update_{current_date}.csv\"\n",
    "terrorist_names.to_csv(filename,index=False)"
   ]
  }
 ],
 "metadata": {
  "kernelspec": {
   "display_name": "Python 3 (ipykernel)",
   "language": "python",
   "name": "python3"
  },
  "language_info": {
   "codemirror_mode": {
    "name": "ipython",
    "version": 3
   },
   "file_extension": ".py",
   "mimetype": "text/x-python",
   "name": "python",
   "nbconvert_exporter": "python",
   "pygments_lexer": "ipython3",
   "version": "3.12.3"
  }
 },
 "nbformat": 4,
 "nbformat_minor": 5
}
